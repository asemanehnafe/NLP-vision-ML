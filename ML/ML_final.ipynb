{
  "cells": [
    {
      "cell_type": "markdown",
      "source": [
        "# clustering"
      ],
      "metadata": {
        "id": "hdwWefciFnG_"
      }
    },
    {
      "cell_type": "markdown",
      "source": [
        "\n",
        "\n",
        "<div dir = \"rtl\" style=\"direction:rtl;line-height:250%;\">\n",
        "\t<font face=\"XB Zar\" size=5>\n",
        "در این بخش مانند بخش ای که در کلاس زده شد هر دو ویژگی دیتا ست را با الگوریتم kmeans خوشه بندی میکنیم سپس با الگوریتم kmodes سه خوشه جدید به دست آمده را به کلاس های نهایی نسبت میدهیم و در ستون جدید به دیتا ست اضافه میکنیم.\n",
        "     </font>\n",
        "</div>"
      ],
      "metadata": {
        "id": "pSF_489uVvgJ"
      }
    },
    {
      "cell_type": "code",
      "source": [
        "!pip install kmodes\n",
        "# pandas, numpy, sklearn"
      ],
      "metadata": {
        "colab": {
          "base_uri": "https://localhost:8080/"
        },
        "id": "-z7woAwTFmNq",
        "outputId": "98fbf268-a2a1-4279-94b9-bbf634668d3a"
      },
      "execution_count": 1,
      "outputs": [
        {
          "output_type": "stream",
          "name": "stdout",
          "text": [
            "Requirement already satisfied: kmodes in /usr/local/lib/python3.10/dist-packages (0.12.2)\n",
            "Requirement already satisfied: numpy>=1.10.4 in /usr/local/lib/python3.10/dist-packages (from kmodes) (1.22.4)\n",
            "Requirement already satisfied: scikit-learn>=0.22.0 in /usr/local/lib/python3.10/dist-packages (from kmodes) (1.2.2)\n",
            "Requirement already satisfied: scipy>=0.13.3 in /usr/local/lib/python3.10/dist-packages (from kmodes) (1.10.1)\n",
            "Requirement already satisfied: joblib>=0.11 in /usr/local/lib/python3.10/dist-packages (from kmodes) (1.2.0)\n",
            "Requirement already satisfied: threadpoolctl>=2.0.0 in /usr/local/lib/python3.10/dist-packages (from scikit-learn>=0.22.0->kmodes) (3.1.0)\n"
          ]
        }
      ]
    },
    {
      "cell_type": "code",
      "execution_count": 2,
      "metadata": {
        "id": "fff673hVgFz8"
      },
      "outputs": [],
      "source": [
        "import pandas as pd\n",
        "import numpy as np\n",
        "import matplotlib.pyplot as plt\n",
        "from sklearn.cluster import KMeans\n",
        "from kmodes.kmodes import KModes"
      ]
    },
    {
      "cell_type": "code",
      "execution_count": 3,
      "metadata": {
        "colab": {
          "base_uri": "https://localhost:8080/"
        },
        "id": "w66IQx80gFz8",
        "outputId": "1632c8a8-c235-4ba2-d6f8-4bb119cfd7b3"
      },
      "outputs": [
        {
          "output_type": "stream",
          "name": "stderr",
          "text": [
            "/usr/local/lib/python3.10/dist-packages/sklearn/cluster/_kmeans.py:870: FutureWarning: The default value of `n_init` will change from 10 to 'auto' in 1.4. Set the value of `n_init` explicitly to suppress the warning\n",
            "  warnings.warn(\n",
            "/usr/local/lib/python3.10/dist-packages/sklearn/cluster/_kmeans.py:870: FutureWarning: The default value of `n_init` will change from 10 to 'auto' in 1.4. Set the value of `n_init` explicitly to suppress the warning\n",
            "  warnings.warn(\n",
            "/usr/local/lib/python3.10/dist-packages/sklearn/cluster/_kmeans.py:870: FutureWarning: The default value of `n_init` will change from 10 to 'auto' in 1.4. Set the value of `n_init` explicitly to suppress the warning\n",
            "  warnings.warn(\n"
          ]
        }
      ],
      "source": [
        "df = pd.read_csv(\"dataset.csv\")\n",
        "\n",
        "effort_clustering = KMeans(n_clusters=2, random_state=0).fit(df[['time_online', 'video_clicks']])\n",
        "df['effort'] = effort_clustering.labels_\n",
        "\n",
        "proactivity_clustering = KMeans(n_clusters=2, random_state=0).fit(df[['content_anticipation', 'delay_lectures']])\n",
        "df['proactivity'] = proactivity_clustering.labels_\n",
        "\n",
        "control_clustering = KMeans(n_clusters=2, random_state=0).fit(df[['fraction_spent']])\n",
        "df['control'] = control_clustering.labels_\n",
        "\n",
        "df.to_csv(\"dataset_clustered.csv\", index=False)"
      ]
    },
    {
      "cell_type": "code",
      "execution_count": 4,
      "metadata": {
        "id": "4CKB-ZBJgFz8"
      },
      "outputs": [],
      "source": [
        "k_modes = KModes(n_clusters=4)\n",
        "clusters = k_modes.fit_predict(df[['effort', 'proactivity', 'control']])\n",
        "df['profile'] = clusters\n",
        "df.to_csv(\"dataset_clustered.csv\", index=False)"
      ]
    },
    {
      "cell_type": "markdown",
      "source": [
        "# neural network (normal featurs)"
      ],
      "metadata": {
        "id": "m8a9id6kgThm"
      }
    },
    {
      "cell_type": "markdown",
      "source": [
        "<div dir = \"rtl\" style=\"direction:rtl;line-height:250%;\">\n",
        "\t<font face=\"XB Zar\" size=5>\n",
        "      در این بخش با استفاده از شبکه عصبی سه لایه که لایه های آن در قسمت init تعیین شده است برای پیش بینی نمره دانش آموزان یک شبکه عصبی طراحی کرده و سپس در 10000 ایتریشن وزن های این شبکه عصبی را با الگوریتم gradient descent تعیین میکنیم و در آخر روی دیتا ست تست که دو دهم دیتا ست اولیه بود و از آن در فرایند یادگیری استفاده نکردیم به داده ها بر چسب میدهیم.\n",
        "     </font>\n",
        "</div>"
      ],
      "metadata": {
        "id": "YZwP9GysXMtL"
      }
    },
    {
      "cell_type": "code",
      "execution_count": 5,
      "metadata": {
        "id": "P1BaNAdegFz9"
      },
      "outputs": [],
      "source": [
        "import torch\n",
        "import torch.nn as nn\n",
        "import torch.nn.functional as F\n",
        "import torch.optim as optim\n",
        "from sklearn.model_selection import train_test_split\n",
        "from sklearn.preprocessing import StandardScaler\n",
        "\n",
        "features = df[[\"time_online\", \"video_clicks\", \"content_anticipation\", \"delay_lectures\", \"fraction_spent\"]].values\n",
        "target = df['grade'].values\n",
        "\n",
        "scaler = StandardScaler()\n",
        "features = scaler.fit_transform(features)\n",
        "\n",
        "X_train, X_test, y_train, y_test = train_test_split(features, target, test_size=0.2, random_state=0)\n",
        "\n",
        "X_train = torch.Tensor(X_train)\n",
        "y_train = torch.Tensor(y_train).unsqueeze(1)\n",
        "X_test = torch.Tensor(X_test)\n",
        "y_test = torch.Tensor(y_test).unsqueeze(1)\n",
        "\n",
        "class Net(nn.Module):\n",
        "    def __init__(self, input_size):\n",
        "        super(Net, self).__init__()\n",
        "        self.fc1 = nn.Linear(input_size, 10)\n",
        "        self.fc2 = nn.Linear(10, 8)\n",
        "        self.fc3 = nn.Linear(8, 1)\n",
        "\n",
        "    def forward(self, x):\n",
        "        x = torch.relu(self.fc1(x))\n",
        "        x = torch.relu(self.fc2(x))\n",
        "        x = self.fc3(x)\n",
        "        return x\n",
        "\n",
        "input_size = features.shape[1]\n",
        "model = Net(input_size)\n",
        "\n",
        "criterion = nn.MSELoss()\n",
        "optimizer = optim.Adam(model.parameters(), lr=0.01)\n",
        "\n",
        "for i in range(10000):\n",
        "    outputs = model(X_train)\n",
        "    loss = criterion(outputs, y_train)\n",
        "    optimizer.zero_grad()\n",
        "    loss.backward()\n",
        "    optimizer.step()"
      ]
    },
    {
      "cell_type": "markdown",
      "source": [
        "<div dir = \"rtl\" style=\"direction:rtl;line-height:250%;\">\n",
        "\t<font face=\"XB Zar\" size=5>\n",
        "همانطور که در سل پایین میبینید loss برابر مقدار زیر شد که این یعنی مقداری از  پیش بینی ها از مقدار واقعی دور بوده و خطا داشته ایم یعنی به طور متوسط مربع فاصله ما از مفدار واقعی به این اندازه اختلاف داشته است در مرحله بعدی این مقدار را سعی میکنیم کمتر کنیم.\n",
        "     </font>\n",
        "</div>"
      ],
      "metadata": {
        "id": "OboVpb_PX7UR"
      }
    },
    {
      "cell_type": "code",
      "execution_count": 6,
      "metadata": {
        "colab": {
          "base_uri": "https://localhost:8080/"
        },
        "id": "7bboLWfNgFz9",
        "outputId": "60a21e83-3068-4bb2-b8fe-8ca82943aba5"
      },
      "outputs": [
        {
          "output_type": "stream",
          "name": "stdout",
          "text": [
            "1.1052144765853882\n"
          ]
        }
      ],
      "source": [
        "model.eval()\n",
        "with torch.no_grad():\n",
        "    y_pred = model(X_test)\n",
        "    mse = F.mse_loss(y_pred, y_test)\n",
        "    print(mse.item())\n",
        "NN_normal_features=mse.item()"
      ]
    },
    {
      "cell_type": "markdown",
      "source": [
        "# neural network (dimensions)"
      ],
      "metadata": {
        "id": "F-tMUM4FFZm4"
      }
    },
    {
      "cell_type": "markdown",
      "source": [
        "<div dir = \"rtl\" style=\"direction:rtl;line-height:250%;\">\n",
        "\t<font face=\"XB Zar\" size=5>\n",
        "در این مرحله اینبار همان شبکه عصبی را اینبار با ویژگی های جدید که از خوشه بندی به دست آورده ایم یعنی\n",
        "\"effort\", \"proactivity\", \"control\"\n",
        "میسازیم و وزن ها را یادمیگیریم\n",
        "     </font>\n",
        "</div>"
      ],
      "metadata": {
        "id": "IRYVR1eAYto2"
      }
    },
    {
      "cell_type": "code",
      "source": [
        "features = df[[\"effort\", \"proactivity\", \"control\"]].values\n",
        "target = df['grade'].values\n",
        "\n",
        "scaler = StandardScaler()\n",
        "features = scaler.fit_transform(features)\n",
        "\n",
        "X_train, X_test, y_train, y_test = train_test_split(features, target, test_size=0.2, random_state=0)\n",
        "\n",
        "X_train = torch.Tensor(X_train)\n",
        "y_train = torch.Tensor(y_train).unsqueeze(1)\n",
        "X_test = torch.Tensor(X_test)\n",
        "y_test = torch.Tensor(y_test).unsqueeze(1)\n",
        "\n",
        "class Net(nn.Module):\n",
        "    def __init__(self, input_size):\n",
        "        super(Net, self).__init__()\n",
        "        self.fc1 = nn.Linear(input_size, 10)\n",
        "        self.fc2 = nn.Linear(10, 8)\n",
        "        self.fc3 = nn.Linear(8, 1)\n",
        "\n",
        "    def forward(self, x):\n",
        "        x = torch.relu(self.fc1(x))\n",
        "        x = torch.relu(self.fc2(x))\n",
        "        x = self.fc3(x)\n",
        "        return x\n",
        "\n",
        "input_size = features.shape[1]\n",
        "model = Net(input_size)\n",
        "\n",
        "criterion = nn.MSELoss()\n",
        "optimizer = optim.Adam(model.parameters(), lr=0.01)\n",
        "\n",
        "for i in range(10000):\n",
        "    outputs = model(X_train)\n",
        "    loss = criterion(outputs, y_train)\n",
        "    optimizer.zero_grad()\n",
        "    loss.backward()\n",
        "    optimizer.step()"
      ],
      "metadata": {
        "id": "p2NizlZwhCT5"
      },
      "execution_count": 7,
      "outputs": []
    },
    {
      "cell_type": "markdown",
      "source": [
        "<div dir = \"rtl\" style=\"direction:rtl;line-height:250%;\">\n",
        "\t<font face=\"XB Zar\" size=5>\n",
        "همانطور که در سل زیر میبینید loss کمتر شد و این یعنی خوشه بندی باعث بهبود شد\n",
        "     </font>\n",
        "</div>"
      ],
      "metadata": {
        "id": "qZ6-zBshZOs4"
      }
    },
    {
      "cell_type": "code",
      "source": [
        "model.eval()\n",
        "with torch.no_grad():\n",
        "    y_pred = model(X_test)\n",
        "    mse = F.mse_loss(y_pred, y_test)\n",
        "    print(mse.item())\n",
        "NN_dimensions=mse.item()"
      ],
      "metadata": {
        "colab": {
          "base_uri": "https://localhost:8080/"
        },
        "id": "6JCfOyj8hK_z",
        "outputId": "ef93a9c7-2488-4b7d-9a5f-4fe1d46d9289"
      },
      "execution_count": 8,
      "outputs": [
        {
          "output_type": "stream",
          "name": "stdout",
          "text": [
            "0.870038628578186\n"
          ]
        }
      ]
    },
    {
      "cell_type": "markdown",
      "source": [
        "# decision tree (normal features)"
      ],
      "metadata": {
        "id": "33hinZT_GDK-"
      }
    },
    {
      "cell_type": "markdown",
      "source": [
        "<div dir = \"rtl\" style=\"direction:rtl;line-height:250%;\">\n",
        "\t<font face=\"XB Zar\" size=5>\n",
        "این بار با یک مدل کلاسیک به اسم درخت تصمیم عمل میکنیم از لایببری sklearn برای ساخت درخت تصمیم خود استفاده میکنیم.\n",
        "     </font>\n",
        "</div>"
      ],
      "metadata": {
        "id": "S_J1KP3BZcZi"
      }
    },
    {
      "cell_type": "code",
      "source": [
        "from sklearn import tree\n",
        "\n",
        "features = df[[\"time_online\", \"video_clicks\", \"content_anticipation\", \"delay_lectures\", \"fraction_spent\"]].values\n",
        "target = df['grade'].values\n",
        "\n",
        "scaler = StandardScaler()\n",
        "features = scaler.fit_transform(features)\n",
        "\n",
        "X_train, X_test, y_train, y_test = train_test_split(features, target, test_size=0.2, random_state=0)\n",
        "X_train = torch.Tensor(X_train)\n",
        "y_train = torch.Tensor(y_train).unsqueeze(1)\n",
        "X_test = torch.Tensor(X_test)\n",
        "y_test = torch.Tensor(y_test).unsqueeze(1)\n",
        "\n",
        "clf = tree.DecisionTreeClassifier()\n",
        "clf = clf.fit(X_train, y_train)"
      ],
      "metadata": {
        "id": "MvHE1_D-DpWz"
      },
      "execution_count": 9,
      "outputs": []
    },
    {
      "cell_type": "markdown",
      "source": [
        "<div dir = \"rtl\" style=\"direction:rtl;line-height:250%;\">\n",
        "\t<font face=\"XB Zar\" size=5>\n",
        "در این بخش درخت تصمیم را در فایل\n",
        "decision_tree1_graphivz\n",
        "نمایش میدهیم تا یک حسی از درخت تصمیم خود داشته باشیم.\n",
        "     </font>\n",
        "</div>"
      ],
      "metadata": {
        "id": "ISqaugS9Zrbi"
      }
    },
    {
      "cell_type": "code",
      "source": [
        "# fig = plt.figure(figsize=(25,20))\n",
        "# _ = tree.plot_tree(clf,\n",
        "#                    feature_names=[\"time_online\", \"video_clicks\", \"content_anticipation\", \"delay_lectures\", \"fraction_spent\"],\n",
        "#                    filled=True)"
      ],
      "metadata": {
        "id": "MouL6kWYDpva"
      },
      "execution_count": 10,
      "outputs": []
    },
    {
      "cell_type": "code",
      "source": [
        "import graphviz\n",
        "# DOT data\n",
        "dot_data = tree.export_graphviz(clf, out_file=None,\n",
        "                                feature_names=[\"time_online\", \"video_clicks\", \"content_anticipation\", \"delay_lectures\", \"fraction_spent\"],\n",
        "                                filled=True)\n",
        "\n",
        "# Draw graph\n",
        "graph = graphviz.Source(dot_data, format=\"png\")\n",
        "graph\n",
        "graph.render(\"decision_tree1_graphivz\")"
      ],
      "metadata": {
        "colab": {
          "base_uri": "https://localhost:8080/",
          "height": 54
        },
        "id": "1RhYRoW1QBMZ",
        "outputId": "1848dd53-3248-4aa7-dd2c-25120fb87eb5"
      },
      "execution_count": 11,
      "outputs": [
        {
          "output_type": "stream",
          "name": "stderr",
          "text": [
            "dot: graph is too large for cairo-renderer bitmaps. Scaling by 0.93255 to fit\n"
          ]
        },
        {
          "output_type": "execute_result",
          "data": {
            "text/plain": [
              "'decision_tree1_graphivz.png'"
            ],
            "application/vnd.google.colaboratory.intrinsic+json": {
              "type": "string"
            }
          },
          "metadata": {},
          "execution_count": 11
        }
      ]
    },
    {
      "cell_type": "markdown",
      "source": [
        "<div dir = \"rtl\" style=\"direction:rtl;line-height:250%;\">\n",
        "\t<font face=\"XB Zar\" size=5>\n",
        "حال که درخت تصمیم خود را با داده های train ساختیم میتوانیم به پیش بینی برچست داده تست بپردازیم دقت و loss  را به صورت زیر مشاهده میکنید.\n",
        "     </font>\n",
        "</div>"
      ],
      "metadata": {
        "id": "K-mdxx9HZ_5Q"
      }
    },
    {
      "cell_type": "code",
      "source": [
        "y_pred = clf.predict(X_test)\n",
        "y_pred = torch.Tensor(y_pred).unsqueeze(1)\n",
        "mse = F.mse_loss(y_pred, y_test)\n",
        "print(mse.item())\n",
        "acc = (y_test == y_pred).sum() / len(y_test)\n",
        "print(f\"Accuracy of the model: {100.0*acc:4.2f}%\")\n",
        "\n",
        "DT_normal_features=mse.item()"
      ],
      "metadata": {
        "colab": {
          "base_uri": "https://localhost:8080/"
        },
        "id": "bCkCXMeWDxbf",
        "outputId": "68b7319e-d1bc-4164-e6a8-3d51bb3908f0"
      },
      "execution_count": 12,
      "outputs": [
        {
          "output_type": "stream",
          "name": "stdout",
          "text": [
            "2.0675675868988037\n",
            "Accuracy of the model: 25.23%\n"
          ]
        }
      ]
    },
    {
      "cell_type": "markdown",
      "source": [
        "# decision tree (dimensions)"
      ],
      "metadata": {
        "id": "sbjQxgzQGFW5"
      }
    },
    {
      "cell_type": "markdown",
      "source": [
        "<div dir = \"rtl\" style=\"direction:rtl;line-height:250%;\">\n",
        "\t<font face=\"XB Zar\" size=5>\n",
        "این بخش دقیقا مثل بخش قبل است فقط این بار درخت ویژگی های\n",
        "\"effort\", \"proactivity\", \"control\"\n",
        "را  به عنوان ویژگی های خود در نظر میگیرد.\n",
        "     </font>\n",
        "</div>"
      ],
      "metadata": {
        "id": "V0UvwLq4a222"
      }
    },
    {
      "cell_type": "code",
      "source": [
        "features = df[[\"effort\", \"proactivity\", \"control\"]].values\n",
        "target = df['grade'].values\n",
        "\n",
        "scaler = StandardScaler()\n",
        "features = scaler.fit_transform(features)\n",
        "\n",
        "X_train, X_test, y_train, y_test = train_test_split(features, target, test_size=0.2, random_state=0)\n",
        "X_train = torch.Tensor(X_train)\n",
        "y_train = torch.Tensor(y_train).unsqueeze(1)\n",
        "X_test = torch.Tensor(X_test)\n",
        "y_test = torch.Tensor(y_test).unsqueeze(1)\n",
        "\n",
        "clf = tree.DecisionTreeClassifier()\n",
        "clf = clf.fit(X_train, y_train)"
      ],
      "metadata": {
        "id": "8wQFTxdrdz-W"
      },
      "execution_count": 13,
      "outputs": []
    },
    {
      "cell_type": "code",
      "source": [
        "# fig = plt.figure(figsize=(25,20))\n",
        "# _ = tree.plot_tree(clf,\n",
        "#                    feature_names=[\"effort\", \"proactivity\", \"control\"],\n",
        "#                    filled=True)\n",
        "import graphviz\n",
        "# DOT data\n",
        "dot_data = tree.export_graphviz(clf, out_file=None,\n",
        "                                feature_names=[\"effort\", \"proactivity\", \"control\"],\n",
        "                                filled=True)\n",
        "\n",
        "# Draw graph\n",
        "graph = graphviz.Source(dot_data, format=\"png\")\n",
        "graph\n",
        "graph.render(\"decision_tree2_graphivz\")"
      ],
      "metadata": {
        "colab": {
          "base_uri": "https://localhost:8080/",
          "height": 36
        },
        "id": "kPEyiJLW99aT",
        "outputId": "78225d19-46f2-4d2c-943e-356eeb8619e6"
      },
      "execution_count": 14,
      "outputs": [
        {
          "output_type": "execute_result",
          "data": {
            "text/plain": [
              "'decision_tree2_graphivz.png'"
            ],
            "application/vnd.google.colaboratory.intrinsic+json": {
              "type": "string"
            }
          },
          "metadata": {},
          "execution_count": 14
        }
      ]
    },
    {
      "cell_type": "markdown",
      "source": [
        "<div dir = \"rtl\" style=\"direction:rtl;line-height:250%;\">\n",
        "\t<font face=\"XB Zar\" size=5>\n",
        "همانطور که میبینید در این بخش نیز نسبت به بخش قبل بهبود دقت داشتیم. و loss کمتر شد\n",
        "     </font>\n",
        "</div>"
      ],
      "metadata": {
        "id": "9bv3IsU1a5NB"
      }
    },
    {
      "cell_type": "code",
      "source": [
        "y_pred = clf.predict(X_test)\n",
        "y_pred = torch.Tensor(y_pred).unsqueeze(1)\n",
        "mse = F.mse_loss(y_pred, y_test)\n",
        "print(mse.item())\n",
        "acc = (y_test == y_pred).sum() / len(y_test)\n",
        "print(f\"Accuracy of the model: {100.0*acc:4.2f}%\")\n",
        "\n",
        "DT_dimensions=mse.item()"
      ],
      "metadata": {
        "id": "4cAQvvbNgozW",
        "colab": {
          "base_uri": "https://localhost:8080/"
        },
        "outputId": "5695d5e7-61cd-4a25-efb7-b090321cf624"
      },
      "execution_count": 15,
      "outputs": [
        {
          "output_type": "stream",
          "name": "stdout",
          "text": [
            "1.0\n",
            "Accuracy of the model: 35.59%\n"
          ]
        }
      ]
    },
    {
      "cell_type": "markdown",
      "source": [
        "# compare and ploting loss"
      ],
      "metadata": {
        "id": "xJFiVM1WPm4E"
      }
    },
    {
      "cell_type": "code",
      "source": [
        "import matplotlib.pyplot as plt\n",
        "\n",
        "# creating the dataset\n",
        "data = {'neural_network_normal_features':NN_normal_features, 'neural_network_dimensions':NN_dimensions,\n",
        "        'decision_tree_normal_features':DT_normal_features, 'decision_tree_dimensions':DT_dimensions}\n",
        "x = list(data.keys())\n",
        "y = list(data.values())\n",
        "fig = plt.figure(figsize = (12, 5))\n",
        "NN_col='#3cacb0'\n",
        "DT_col='#b5313c'\n",
        "plt.bar(x, y, color=[NN_col, NN_col, DT_col, DT_col], width = 0.4)\n",
        "\n",
        "plt.xlabel(\"Models\")\n",
        "plt.ylabel(\"Loss\")\n",
        "plt.title(\"\")\n",
        "plt.show()"
      ],
      "metadata": {
        "id": "8hPl176HPwA6",
        "colab": {
          "base_uri": "https://localhost:8080/",
          "height": 465
        },
        "outputId": "450f6786-32f9-440a-f05f-1c813e848368"
      },
      "execution_count": 16,
      "outputs": [
        {
          "output_type": "display_data",
          "data": {
            "text/plain": [
              "<Figure size 1200x500 with 1 Axes>"
            ],
            "image/png": "[encoded data removed]"
          },
          "metadata": {}
        }
      ]
    },
    {
      "cell_type": "markdown",
      "source": [
        "<div dir = \"rtl\" style=\"direction:rtl;line-height:250%;\">\n",
        "\t<font face=\"XB Zar\" size=5>\n",
        "همانطور که مشاهده میکنید loss بعد از خوشه بندی در هر دو مدل کمتر شده است که دلیل آن میتواند جلوگیری از overfitting باشد\n",
        "همجنشن همانطور که میبیند loss فیچر های اصلی با مدل کلاسیک بیشتر از مدل شبکه عصبی شده است چون شبکه های عصبی چند لایه اند و قدرت زیادی دارند این اتفاق برای حالتی که ویژگی ها را\n",
        "dimension ها در نظر بگیریم نیز صادق است.\n",
        "     </font>\n",
        "</div>"
      ],
      "metadata": {
        "id": "HXbKCx1-br-O"
      }
    }
  ],
  "metadata": {
    "kernelspec": {
      "display_name": "Python 3",
      "name": "python3"
    },
    "language_info": {
      "codemirror_mode": {
        "name": "ipython",
        "version": 3
      },
      "file_extension": ".py",
      "mimetype": "text/x-python",
      "name": "python",
      "nbconvert_exporter": "python",
      "pygments_lexer": "ipython3",
      "version": "3.9.13"
    },
    "colab": {
      "provenance": [],
      "gpuType": "T4",
      "collapsed_sections": [
        "hdwWefciFnG_",
        "m8a9id6kgThm",
        "F-tMUM4FFZm4",
        "33hinZT_GDK-",
        "sbjQxgzQGFW5",
        "xJFiVM1WPm4E"
      ]
    },
    "accelerator": "GPU"
  },
  "nbformat": 4,
  "nbformat_minor": 0
}